{
 "cells": [
  {
   "cell_type": "markdown",
   "metadata": {},
   "source": [
    "# Example: readout chain\n",
    "\n",
    "\n",
    "<img width=600 align=\"left\" src=\"figs/illustrative_example.svg\">\n",
    "<br style=\"clear:both\"/>"
   ]
  },
  {
   "cell_type": "markdown",
   "metadata": {},
   "source": [
    "Common packages\n",
    "- Numpy and scipy core scientfic lib\n",
    "- Pandas dataframe tubular data manipulation (input / output variables for the model and analysis).\n",
    "- Excellent packages for plotting. Holoview and hvplot interactive tie directly to dataframe\n",
    "- Panel dashboard"
   ]
  },
  {
   "cell_type": "code",
   "execution_count": null,
   "metadata": {},
   "outputs": [],
   "source": [
    "# Common package\n",
    "import numpy as np\n",
    "import scipy\n",
    "import pandas as pd\n",
    "import hvplot.pandas\n",
    "import holoviews as hv\n",
    "import panel as pn\n",
    "pn.extension()\n",
    "\n",
    "# Specific to this analyis\n",
    "from scipy.spatial.transform import Rotation as R\n",
    "import yaml\n",
    "from box import Box\n",
    "#pn.Column(\"## Title\", pd.DataFrame(np.random.randn(100, 2)).cumsum().hvplot())"
   ]
  },
  {
   "cell_type": "markdown",
   "metadata": {},
   "source": [
    "## Overview\n",
    "\n",
    "https://www.msystraining.com/articles/quality-management/dmaic-approach-in-lean-six-sigma/\n",
    "Measure: quantify the problem, model.\n",
    "\n",
    "**Define**. \n",
    "\n",
    "System under study: magnetic angle sensor.\n",
    "Several components.\n",
    "Objective: quantititevly study the performance angle error in the presence of several errors sources (mech misalignment, noise, and digital calculation approximation) and provide design recommendations to meet a certain accuracy target.\n",
    "\n",
    "**Model**: functional modeling in Python. \n",
    "For each component, model the math input/output relationship.\n",
    "Execute these function in turn to model the full chain.\n",
    "\n",
    "**Analysis** of the end-to-end angle error by FFT (spectral analysis) to distinguish non linearity distortion and random noise. \n",
    "Repeat for several parameter configurations to gain insight into the critical factors (sensivity analysis).\n",
    "\n",
    "**Improve**: Summarize the critial errors, and finally we derive design requirements to meet accuracy target specified in tems of equivalent number of bits (ENOB).\n",
    "\n",
    "> DMAIC. Control phase? Cascading RQT first form of control. Test case, analyzing first batch of data."
   ]
  },
  {
   "cell_type": "markdown",
   "metadata": {},
   "source": [
    "## Functional Modeling\n",
    "\n",
    "Pandas.\n",
    "Plotting holoview.\n",
    "\n",
    "Fixed Parameters of the system under study. \n",
    "Stored them in a dedicated data dictionary for better modularity.\n",
    "Data dictionary, design parameters initialize."
   ]
  },
  {
   "cell_type": "code",
   "execution_count": null,
   "metadata": {
    "code_folding": []
   },
   "outputs": [],
   "source": [
    "dd = {\n",
    "  'magnet'  : {\n",
    "    'dim'   : [10,10,10], \n",
    "    'mag'   : [-1,0,0],\n",
    "    'pos'   : [0,0,15] },   \n",
    "  'sensor'  : {\n",
    "    'pos'   : [0,1,0],\n",
    "    'tilt'  : 3,\n",
    "    'S'     : 1.0,\n",
    "    'noise' : 0.2 },\n",
    "  'adc': {\n",
    "     'lsb'  : 0.1,\n",
    "     'n'    : 12 },   \n",
    "  'cordic'  : {\n",
    "    'n'     : 12, }\n",
    "}\n",
    "\n",
    "#print(yaml.dump(dd, allow_unicode=True, default_flow_style=None))\n",
    "\n",
    "display(pd.DataFrame.from_dict(dd, orient='index').stack().to_frame('value'))\n",
    "dd=Box(dd)"
   ]
  },
  {
   "cell_type": "markdown",
   "metadata": {},
   "source": [
    "### Coding convention"
   ]
  },
  {
   "cell_type": "markdown",
   "metadata": {},
   "source": [
    "Convention for each function (series or dataframe in / out) when there are multiple inputs\n",
    "\n",
    "$Y = f(X)$.\n",
    "\n",
    "\n",
    "* inputs: X['x1'], X['x2'], ...\n",
    "* outputs: Y['y1'], Y['y2'] ...\n",
    "\n",
    "Just a convention for consistency. Named output"
   ]
  },
  {
   "cell_type": "code",
   "execution_count": null,
   "metadata": {},
   "outputs": [],
   "source": [
    "def f(X):\n",
    "  return {\n",
    "    'cos': np.cos(X.theta_i),\n",
    "    'sin': np.sin(X.theta_i),\n",
    "  }\n",
    "f(Box({'theta_i': 0}))\n",
    "\n"
   ]
  },
  {
   "cell_type": "code",
   "execution_count": null,
   "metadata": {},
   "outputs": [],
   "source": [
    "def apply_func_df(func):\n",
    "  def wrapper(df):\n",
    "    Y = df.apply(func, axis=1, result_type='expand')\n",
    "    return df.drop(columns=Y.columns, errors='ignore').join(Y)\n",
    "  wrapper.__wrapped__ = func\n",
    "  return wrapper\n",
    "\n",
    "df = pd.DataFrame({'theta_i': np.arange(0,2*np.pi,np.pi/100)})\n",
    "\n",
    "@apply_func_df\n",
    "def f(X):\n",
    "  return {\n",
    "    'cos': np.cos(X.theta_i),\n",
    "    'sin': np.sin(X.theta_i),\n",
    "  }\n",
    "\n",
    "df=f(df)\n",
    "display(df)\n",
    "df.hvplot(x='theta_i')\n",
    "#from collections import namedtuple\n",
    "#Point = namedtuple('Point', ['x', 'y']\n",
    "                   \n"
   ]
  },
  {
   "cell_type": "markdown",
   "metadata": {},
   "source": [
    "### Magnetics\n",
    "\n",
    "dd.update() \n",
    "\n",
    "* magnetic: magpylib\n",
    "\n",
    "* 10x10x10 cube, 1T\n",
    "\n",
    "* Function: (airgap) field vs airgap. Bx, By, Bz, and Bmag.\n",
    "* Dataframe: airgap.\n",
    "* Apply function, expand true Bx, By, Bz and field (vectors)\n",
    "* hvplot Bmag [mT] vs airgap\n",
    "\n",
    "3 degree, 0.05 rad (5%)"
   ]
  },
  {
   "cell_type": "code",
   "execution_count": null,
   "metadata": {},
   "outputs": [],
   "source": [
    "from magpylib.source.magnet import Box as Bar_magnet\n",
    "magnet=Bar_magnet(**dd.magnet)\n",
    "display(magnet)"
   ]
  },
  {
   "cell_type": "markdown",
   "metadata": {},
   "source": [
    "[RaLe09]: R. Ravaud and G. Lemarquand, “Magnetic Field Produced by a Parallelepipedic Magnet of Various and Uniform Polarization,” Pierce Law Rev., vol. 98, pp. 207–219, 2009 [Online]. Available: [[link]](http://www.jpier.org/PIER/pier.php?paper=09091704)\n",
    "\n",
    "https://github.com/magpylib/magpylib/blob/master/magpylib/_lib/fields/PM_Box.py"
   ]
  },
  {
   "cell_type": "code",
   "execution_count": null,
   "metadata": {},
   "outputs": [],
   "source": [
    "# Derived parameters\n",
    "def calc_derived(dd):\n",
    "  dd.magnet.airgap =dd.magnet.pos[2] - dd.magnet.dim[2]\n",
    "  dd.sensor.rot=R.from_euler('y', dd.sensor.tilt, degrees=True)\n",
    "\n",
    "calc_derived(dd)"
   ]
  },
  {
   "cell_type": "code",
   "execution_count": null,
   "metadata": {},
   "outputs": [],
   "source": [
    "df = pd.DataFrame({'z': np.arange(-5,5,0.5)})\n",
    "\n",
    "@apply_func_df\n",
    "def calc_B(X):\n",
    "  'Calculate the field vector in mT as a function of z'\n",
    "  B = magnet.getB(np.array(dd.sensor.pos) + np.array([0,0,X.z]))/1e-3\n",
    "  return {'Bx': B[0], 'By': B[1], 'Bz': B[2]}\n",
    "\n",
    "\n",
    "df=calc_B(df)\n",
    "df['Bmag']=df.filter(regex='B[x,y,z]').apply(np.linalg.norm, axis=1)\n",
    "df['airgap']=dd.magnet.airgap - df.z\n",
    "\n",
    "df.hvplot(x='airgap', y='Bmag',\n",
    "          xlabel='airgap [mm]', ylabel='Field magnitude [mT]'\n",
    "         )"
   ]
  },
  {
   "cell_type": "markdown",
   "metadata": {},
   "source": [
    "### Mechanics"
   ]
  },
  {
   "cell_type": "code",
   "execution_count": null,
   "metadata": {},
   "outputs": [],
   "source": [
    "df = pd.DataFrame({'theta_i': np.arange(0,360,5)})\n",
    "\n",
    "@apply_func_df\n",
    "def calc_B(X):\n",
    "  'Calculate the field vector in mT as a function of rotation'\n",
    "  magnet.rotate(angle=X.theta_i, axis=[0,0,1])\n",
    "  B = magnet.getB(np.array(dd['sensor']['pos']))/1e-3\n",
    "  magnet.angle=0\n",
    "  B=dd['sensor']['rot'].apply(B)\n",
    "  return {'Bx': B[0], 'By': B[1], 'Bz': B[2]}\n",
    "\n",
    "\n",
    "df=calc_B(df)\n",
    "df['Bmag']=df.filter(regex='B[x,y,z]').apply(np.linalg.norm, axis=1)\n",
    "\n",
    "df.hvplot(x='theta_i', y=['Bx', 'By', 'Bmag'],\n",
    "          xlabel='θi [°]', ylabel='Field magnitude [mT]'\n",
    "         )"
   ]
  },
  {
   "cell_type": "code",
   "execution_count": null,
   "metadata": {},
   "outputs": [],
   "source": [
    "df.query('theta_i==0')"
   ]
  },
  {
   "cell_type": "markdown",
   "metadata": {},
   "source": [
    "```\n",
    "x,y,z=@np.array([0,0,1]))\n",
    "print('magnet: ', degrees(np.array(cart2sphere(x,y,z)))[1:])\n",
    "```\n",
    "\n",
    "* Offaxis\n",
    "* Field at (0,1mm,-15mm) \n",
    "* Sensor tilted by 3 degree\n",
    "* mechanical (rotation matrix of sensor) from Euler angle\n",
    "* scipy rotation matric, apply"
   ]
  },
  {
   "cell_type": "markdown",
   "metadata": {},
   "source": [
    "### Electronics\n",
    "\n",
    "* Sensitivity 1mV/1mT * 1000: 1V/T, Vx, Vy\n",
    "* Then electronic: white noise\n",
    "\n",
    "```\n",
    "from scipy.stats.distributions import norm\n",
    "norm_dist = norm(0,1)\n",
    "norm_dist.rvs(size=100)*0.1\n",
    "```"
   ]
  },
  {
   "cell_type": "code",
   "execution_count": null,
   "metadata": {},
   "outputs": [],
   "source": [
    "@apply_func_df\n",
    "def transduce(X):\n",
    "  return {\n",
    "    'Vx': (X.Bx + np.random.randn()*dd['sensor']['noise']) * dd['sensor']['S'],\n",
    "    'Vy': (X.By + np.random.randn()*dd['sensor']['noise']) * dd['sensor']['S'],\n",
    "    }\n",
    "\n",
    "df=transduce(df)\n",
    "\n",
    "df.hvplot(x='theta_i', y=['Vx', 'Vy'],\n",
    "          xlabel='θi [°]', ylabel='Field magnitude [mT]'\n",
    "         )"
   ]
  },
  {
   "cell_type": "code",
   "execution_count": null,
   "metadata": {},
   "outputs": [],
   "source": [
    "%%script echo SKIPPED\n",
    "def transduce(X):\n",
    "  'B -> to Voltage'\n",
    "  return dd['sensor']['S'] * np.array([X.Bx, X.By]) + np.random.randn(2)\n",
    "  #return dd['sensor']['S'] * (np.array([row.Bx,row.By]) \n",
    "df[['Vx', 'Vy']]=df.filter(regex='B[x-z]').apply(transduce, axis=1, result_type='expand')"
   ]
  },
  {
   "cell_type": "code",
   "execution_count": null,
   "metadata": {},
   "outputs": [],
   "source": [
    "N = 10\n",
    "import colorednoise as cn\n",
    "beta = 1 # the exponent\n",
    "samples = 2**N # number of samples to generate\n",
    "y = pd.Series(cn.powerlaw_psd_gaussian(1, samples))\n",
    "# optionally plot the Power Spectral Density with Matplotlib\n",
    "from matplotlib import mlab\n",
    "from matplotlib import pylab as plt\n",
    "s, f = mlab.psd(y, NFFT=2**10)\n",
    "\n",
    "pd.Series(y).hvplot()"
   ]
  },
  {
   "cell_type": "markdown",
   "metadata": {},
   "source": [
    "* https://github.com/felixpatzelt/colorednoise\n",
    "* https://www.dsprelated.com/showarticle/908.php\n",
    "* https://allantools.readthedocs.io/en/latest/functions.html#allantools.noise.pink\n",
    "\n",
    "Plot white noise, pink noise and total in time time and PSD. \n",
    "\n",
    "Add different noise to Vx and Vy\n",
    "Plot Vx, Vy."
   ]
  },
  {
   "cell_type": "code",
   "execution_count": null,
   "metadata": {},
   "outputs": [],
   "source": [
    "@apply_func_df\n",
    "def quantize(X):\n",
    "  def q(v): \n",
    "    return np.clip(int(v/dd.adc.lsb), -2**(dd.adc.n-1), 2**(dd.adc.n-1))\n",
    "  return {'Qx': q(X.Vx), 'Qy': q(X.Vy)}\n",
    "\n",
    "df=quantize(df)"
   ]
  },
  {
   "cell_type": "markdown",
   "metadata": {},
   "source": [
    "### Digital signal processing\n",
    "\n",
    "'cordic'\n",
    "  'n_bit': xx\n",
    "\n",
    "* 12 bit\n",
    "* digital signal processing: angle calculation (CORDIC, 16b: https://people.sc.fsu.edu/~jburkardt/py_src/cordic/cordic.py)\n",
    "* https://people.sc.fsu.edu/~jburkardt/py_src/cordic/cordic.html"
   ]
  },
  {
   "cell_type": "code",
   "execution_count": null,
   "metadata": {},
   "outputs": [],
   "source": [
    "from usys_mod_book import cordic\n",
    "\n",
    "@apply_func_df\n",
    "def calc_angle(X):\n",
    "  x,y = X.Qx, X.Qy\n",
    "  angle = cordic.arctan_cordic(x,y,n=dd['cordic']['n'])\n",
    "  # see wikipedia\n",
    "  return {'theta_o': np.degrees(np.sign(x)**2 * angle + (1-np.sign(x))/2*(1+np.sign(y)-np.sign(y)**2)*np.pi)}\n",
    "  "
   ]
  },
  {
   "cell_type": "code",
   "execution_count": null,
   "metadata": {},
   "outputs": [],
   "source": [
    "df=calc_angle(df)\n",
    "df.hvplot(x='theta_i', y='theta_o')"
   ]
  },
  {
   "cell_type": "markdown",
   "metadata": {},
   "source": [
    "### Complete chain\n",
    "\n",
    "Chain the operation with pipe: https://pandas.pydata.org/pandas-docs/stable/reference/api/pandas.DataFrame.pipe.html\n",
    "\n",
    "Stricly pink noise generator has a memory (part of dynamic simulation)\n",
    "\n",
    "Function operates directly on dataframe."
   ]
  },
  {
   "cell_type": "code",
   "execution_count": null,
   "metadata": {},
   "outputs": [],
   "source": [
    "from IPython.display import Image\n",
    "Image('figs/_bitmaps/func_pipe.png', width=400)"
   ]
  },
  {
   "cell_type": "code",
   "execution_count": null,
   "metadata": {},
   "outputs": [],
   "source": [
    "df = pd.DataFrame({'theta_i': np.arange(0,360,5)})\n",
    "\n",
    "df=(df.pipe(calc_B)\n",
    "      .pipe(transduce)\n",
    "      .pipe(quantize)\n",
    "      .pipe(calc_angle))\n",
    "\n",
    "df.hvplot(x='theta_i', y='theta_o')"
   ]
  },
  {
   "cell_type": "markdown",
   "metadata": {},
   "source": [
    "## Analysis\n",
    "\n",
    "* Plot angle error, NL error INL at anchor (From Magnetic design app)\n",
    "\n",
    "* repeat for cfg=asis, improved, stack dataframe (N cordic=16)\n",
    "\n",
    "* Summary stats (two columns one per config), Root-mean-square error. \n",
    "* Dashboard summary table, angle error, Bx/By, save as standalone HTML\n",
    "\n",
    "OPTIONAL:\n",
    "* ENOB analysis, input variable: slow sinewave (dynamic transient are neglected), 3 period 16k points.\n",
    "* Post processing: FFT & ENOB calculation\n",
    "* Plot spectrum"
   ]
  },
  {
   "cell_type": "code",
   "execution_count": null,
   "metadata": {},
   "outputs": [],
   "source": [
    "df['theta_err'] = np.unwrap(df.theta_o - df.theta_i, 180)\n",
    "df['theta_err'] -= df['theta_err'].mean()\n",
    "\n",
    "g1=df.hvplot(x='theta_i', y='theta_err')\n",
    "from holoviews import opts\n",
    "g2=hv.HLine(1).opts(color='red') * hv.HLine(-1).opts(color='red')\n",
    "g1 * g2"
   ]
  },
  {
   "cell_type": "markdown",
   "metadata": {},
   "source": [
    "## Conclusions\n",
    "\n",
    "Dataframe of parameters\n",
    "Summary statistics (noise, distortion, ENOB)"
   ]
  },
  {
   "cell_type": "code",
   "execution_count": null,
   "metadata": {},
   "outputs": [],
   "source": [
    "df.theta_err.describe()[['std', 'max', 'min']].to_frame()"
   ]
  },
  {
   "cell_type": "markdown",
   "metadata": {},
   "source": [
    "## Publish / share \n",
    "\n",
    "* Run the code: In Google Colab, Binder of locally\n",
    "* Dependencies environment.yml\n",
    "* Share on Binder link"
   ]
  }
 ],
 "metadata": {
  "jupytext": {
   "formats": "ipynb,md:myst",
   "text_representation": {
    "extension": ".md",
    "format_name": "myst",
    "format_version": 0.12,
    "jupytext_version": "1.7.1"
   }
  },
  "kernelspec": {
   "display_name": "Python 3",
   "language": "python",
   "name": "python3"
  },
  "source_map": [
   13,
   21,
   29,
   44,
   68,
   79,
   103,
   107,
   119,
   130,
   154,
   171,
   175,
   181,
   190,
   207,
   211,
   232,
   234,
   247,
   260,
   275,
   284,
   296,
   307,
   315,
   326,
   338,
   341,
   351,
   356,
   365,
   381,
   389,
   396,
   398
  ]
 },
 "nbformat": 4,
 "nbformat_minor": 4
}